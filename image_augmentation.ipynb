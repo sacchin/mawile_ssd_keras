{
 "cells": [
  {
   "cell_type": "markdown",
   "metadata": {
    "collapsed": true
   },
   "source": [
    "## Data Augmentationを実施するノートブック"
   ]
  },
  {
   "cell_type": "code",
   "execution_count": null,
   "metadata": {
    "collapsed": true
   },
   "outputs": [],
   "source": [
    "import cv2\n",
    "import numpy as np\n",
    "import os\n",
    "import shutil"
   ]
  },
  {
   "cell_type": "code",
   "execution_count": 2,
   "metadata": {
    "collapsed": true
   },
   "outputs": [],
   "source": [
    "def adjustmentContrast(name, img, path, file_name):\n",
    "    # ルックアップテーブルの生成\n",
    "    min_table = 50\n",
    "    max_table = 205\n",
    "    diff_table = max_table - min_table\n",
    "\n",
    "    LUT_HC = np.arange(256, dtype = 'uint8')\n",
    "    LUT_LC = np.arange(256, dtype = 'uint8')\n",
    "\n",
    "    # ハイコントラストLUT作成\n",
    "    for i in range(0, min_table):\n",
    "        LUT_HC[i] = 0\n",
    "    for i in range(min_table, max_table):\n",
    "        LUT_HC[i] = 255 * (i - min_table) / diff_table\n",
    "    for i in range(max_table, 255):\n",
    "        LUT_HC[i] = 255\n",
    "\n",
    "    # ローコントラストLUT作成\n",
    "    for i in range(256):\n",
    "        LUT_LC[i] = min_table + i * (diff_table) / 255\n",
    "\n",
    "    high_cont_img = cv2.LUT(src, LUT_HC)\n",
    "    low_cont_img = cv2.LUT(src, LUT_LC)\n",
    "    \n",
    "    cv2.imwrite(path + file_name + \"_high_cont.png\", high_cont_img)\n",
    "    cv2.imwrite(path + file_name + \"_low_cont.png\", low_cont_img)"
   ]
  },
  {
   "cell_type": "code",
   "execution_count": 3,
   "metadata": {
    "collapsed": true
   },
   "outputs": [],
   "source": [
    "def smoothing(name, img, path, file_name):\n",
    "    average_square = (10,10)\n",
    "    blur_img = cv2.blur(img, average_square)\n",
    "    cv2.imwrite(path + file_name + \"_smoothed.png\", blur_img)"
   ]
  },
  {
   "cell_type": "code",
   "execution_count": 4,
   "metadata": {
    "collapsed": true
   },
   "outputs": [],
   "source": [
    "def addGaussianNoise(name, img, path, file_name):\n",
    "    row,col,ch= img.shape\n",
    "    mean = 0\n",
    "    sigma = 15\n",
    "    gauss = np.random.normal(mean,sigma,(row,col,ch))\n",
    "    gauss = gauss.reshape(row,col,ch)\n",
    "    gauss_img = img + gauss\n",
    "    cv2.imwrite(path + file_name + \"_gaussianNoise.png\", gauss_img)\n"
   ]
  },
  {
   "cell_type": "code",
   "execution_count": 5,
   "metadata": {
    "collapsed": true
   },
   "outputs": [],
   "source": [
    "def addSaltPepperNoise(name, img, path, file_name):\n",
    "    row,col,ch = img.shape\n",
    "    s_vs_p = 0.5\n",
    "    amount = 0.004\n",
    "    sp_img = img.copy()\n",
    "\n",
    "    # 塩モード\n",
    "    num_salt = np.ceil(amount * img.size * s_vs_p)\n",
    "    coords = [np.random.randint(0, i-1 , int(num_salt)) for i in img.shape]\n",
    "    sp_img[coords[:-1]] = (255,255,255)\n",
    "\n",
    "    # 胡椒モード\n",
    "    num_pepper = np.ceil(amount* src.size * (1. - s_vs_p))\n",
    "    coords = [np.random.randint(0, i-1 , int(num_pepper)) for i in img.shape]\n",
    "    sp_img[coords[:-1]] = (0,0,0)\n",
    "    cv2.imwrite(path + file_name+ \"_saltPepperNoise.png\", sp_img)"
   ]
  },
  {
   "cell_type": "code",
   "execution_count": 6,
   "metadata": {
    "collapsed": true
   },
   "outputs": [],
   "source": [
    "def horizontalFlip(name, img, path, file_name):\n",
    "    hflip_img = cv2.flip(src, 1)\n",
    "    cv2.imwrite(path + file_name + \"_horizontalFlip.png\", hflip_img)"
   ]
  },
  {
   "cell_type": "code",
   "execution_count": 7,
   "metadata": {
    "collapsed": true
   },
   "outputs": [],
   "source": [
    "def verticalFlip(name, img, path, file_name):\n",
    "    vflip_img = cv2.flip(src, 0)\n",
    "    cv2.imwrite(path + file_name + \"_verticalFlip.png\", vflip_img)"
   ]
  },
  {
   "cell_type": "code",
   "execution_count": 8,
   "metadata": {
    "collapsed": true
   },
   "outputs": [],
   "source": [
    "def normalize(name, img, path, file_name):\n",
    "    nomalized_img = (img - np.mean(img))/np.std(img)*16+64\n",
    "    cv2.imwrite(path + file_name + \"_normalized.png\", nomalized_img)"
   ]
  },
  {
   "cell_type": "code",
   "execution_count": 13,
   "metadata": {},
   "outputs": [
    {
     "name": "stdout",
     "output_type": "stream",
     "text": [
      "1 ./data/images/1.png ./data/annotations/1.xml\n",
      "10 ./data/images/10.jpg ./data/annotations/10.xml\n",
      "100 ./data/images/100.jpg ./data/annotations/100.xml\n",
      "101 ./data/images/101.jpg ./data/annotations/101.xml\n",
      "102 ./data/images/102.jpg ./data/annotations/102.xml\n",
      "103 ./data/images/103.jpg ./data/annotations/103.xml\n",
      "104 ./data/images/104.png ./data/annotations/104.xml\n",
      "105 ./data/images/105.png ./data/annotations/105.xml\n",
      "106 ./data/images/106.jpg ./data/annotations/106.xml\n",
      "107 ./data/images/107.jpg ./data/annotations/107.xml\n",
      "108 ./data/images/108.jpg ./data/annotations/108.xml\n",
      "11 ./data/images/11.jpg ./data/annotations/11.xml\n",
      "12 ./data/images/12.jpg ./data/annotations/12.xml\n",
      "13 ./data/images/13.jpg ./data/annotations/13.xml\n",
      "14 ./data/images/14.jpg ./data/annotations/14.xml\n",
      "15 ./data/images/15.jpg ./data/annotations/15.xml\n",
      "16 ./data/images/16.jpg ./data/annotations/16.xml\n",
      "16 ./data/images/16.png ./data/annotations/16.xml\n",
      "17 ./data/images/17.jpg ./data/annotations/17.xml\n",
      "18 ./data/images/18.png ./data/annotations/18.xml\n",
      "19 ./data/images/19.jpg ./data/annotations/19.xml\n",
      "2 ./data/images/2.jpg ./data/annotations/2.xml\n",
      "20 ./data/images/20.jpg ./data/annotations/20.xml\n",
      "21 ./data/images/21.png ./data/annotations/21.xml\n",
      "22 ./data/images/22.jpg ./data/annotations/22.xml\n",
      "23 ./data/images/23.jpg ./data/annotations/23.xml\n",
      "24 ./data/images/24.png ./data/annotations/24.xml\n",
      "25 ./data/images/25.png ./data/annotations/25.xml\n",
      "26 ./data/images/26.jpg ./data/annotations/26.xml\n",
      "27 ./data/images/27.jpg ./data/annotations/27.xml\n",
      "28 ./data/images/28.jpg ./data/annotations/28.xml\n",
      "28 ./data/images/28.png ./data/annotations/28.xml\n",
      "29 ./data/images/29.jpg ./data/annotations/29.xml\n",
      "3 ./data/images/3.jpg ./data/annotations/3.xml\n",
      "30 ./data/images/30.jpg ./data/annotations/30.xml\n",
      "31 ./data/images/31.png ./data/annotations/31.xml\n",
      "32 ./data/images/32.jpg ./data/annotations/32.xml\n",
      "33 ./data/images/33.jpg ./data/annotations/33.xml\n",
      "34 ./data/images/34.jpg ./data/annotations/34.xml\n",
      "35 ./data/images/35.jpg ./data/annotations/35.xml\n",
      "36 ./data/images/36.jpg ./data/annotations/36.xml\n",
      "37 ./data/images/37.jpg ./data/annotations/37.xml\n",
      "38 ./data/images/38.jpg ./data/annotations/38.xml\n",
      "39 ./data/images/39.jpg ./data/annotations/39.xml\n",
      "4 ./data/images/4.png ./data/annotations/4.xml\n",
      "40 ./data/images/40.jpg ./data/annotations/40.xml\n",
      "41 ./data/images/41.jpg ./data/annotations/41.xml\n",
      "42 ./data/images/42.jpg ./data/annotations/42.xml\n",
      "43 ./data/images/43.jpg ./data/annotations/43.xml\n",
      "44 ./data/images/44.jpg ./data/annotations/44.xml\n",
      "45 ./data/images/45.jpg ./data/annotations/45.xml\n",
      "46 ./data/images/46.jpg ./data/annotations/46.xml\n",
      "47 ./data/images/47.jpg ./data/annotations/47.xml\n",
      "48 ./data/images/48.jpg ./data/annotations/48.xml\n",
      "49 ./data/images/49.jpg ./data/annotations/49.xml\n",
      "5 ./data/images/5.png ./data/annotations/5.xml\n",
      "50 ./data/images/50.jpg ./data/annotations/50.xml\n",
      "51 ./data/images/51.png ./data/annotations/51.xml\n",
      "52 ./data/images/52.jpg ./data/annotations/52.xml\n",
      "53 ./data/images/53.jpg ./data/annotations/53.xml\n",
      "54 ./data/images/54.png ./data/annotations/54.xml\n",
      "55 ./data/images/55.jpg ./data/annotations/55.xml\n",
      "56 ./data/images/56.jpg ./data/annotations/56.xml\n",
      "57 ./data/images/57.jpg ./data/annotations/57.xml\n",
      "58 ./data/images/58.jpg ./data/annotations/58.xml\n",
      "59 ./data/images/59.jpg ./data/annotations/59.xml\n",
      "6 ./data/images/6.jpg ./data/annotations/6.xml\n",
      "60 ./data/images/60.png ./data/annotations/60.xml\n",
      "61 ./data/images/61.jpg ./data/annotations/61.xml\n",
      "62 ./data/images/62.jpg ./data/annotations/62.xml\n",
      "63 ./data/images/63.jpg ./data/annotations/63.xml\n",
      "64 ./data/images/64.jpg ./data/annotations/64.xml\n",
      "65 ./data/images/65.jpg ./data/annotations/65.xml\n",
      "66 ./data/images/66.jpg ./data/annotations/66.xml\n",
      "67 ./data/images/67.jpg ./data/annotations/67.xml\n",
      "68 ./data/images/68.jpg ./data/annotations/68.xml\n",
      "69 ./data/images/69.jpg ./data/annotations/69.xml\n",
      "7 ./data/images/7.jpg ./data/annotations/7.xml\n",
      "70 ./data/images/70.jpg ./data/annotations/70.xml\n",
      "71 ./data/images/71.jpg ./data/annotations/71.xml\n",
      "72 ./data/images/72.jpg ./data/annotations/72.xml\n",
      "73 ./data/images/73.jpg ./data/annotations/73.xml\n",
      "73_gaussianNoise ./data/images/73_gaussianNoise.png ./data/annotations/73_gaussianNoise.xml\n",
      "73_high_cont ./data/images/73_high_cont.png ./data/annotations/73_high_cont.xml\n",
      "73_low_cont ./data/images/73_low_cont.png ./data/annotations/73_low_cont.xml\n",
      "73_normalized ./data/images/73_normalized.png ./data/annotations/73_normalized.xml\n",
      "73_saltPepperNoise ./data/images/73_saltPepperNoise.png ./data/annotations/73_saltPepperNoise.xml\n",
      "73_smoothed ./data/images/73_smoothed.png ./data/annotations/73_smoothed.xml\n",
      "74 ./data/images/74.jpg ./data/annotations/74.xml\n",
      "74_gaussianNoise ./data/images/74_gaussianNoise.png ./data/annotations/74_gaussianNoise.xml\n",
      "74_high_cont ./data/images/74_high_cont.png ./data/annotations/74_high_cont.xml\n",
      "74_low_cont ./data/images/74_low_cont.png ./data/annotations/74_low_cont.xml\n",
      "74_normalized ./data/images/74_normalized.png ./data/annotations/74_normalized.xml\n",
      "74_saltPepperNoise ./data/images/74_saltPepperNoise.png ./data/annotations/74_saltPepperNoise.xml\n",
      "74_smoothed ./data/images/74_smoothed.png ./data/annotations/74_smoothed.xml\n",
      "75 ./data/images/75.jpg ./data/annotations/75.xml\n",
      "75_gaussianNoise ./data/images/75_gaussianNoise.png ./data/annotations/75_gaussianNoise.xml\n",
      "75_high_cont ./data/images/75_high_cont.png ./data/annotations/75_high_cont.xml\n",
      "75_low_cont ./data/images/75_low_cont.png ./data/annotations/75_low_cont.xml\n",
      "75_normalized ./data/images/75_normalized.png ./data/annotations/75_normalized.xml\n",
      "75_saltPepperNoise ./data/images/75_saltPepperNoise.png ./data/annotations/75_saltPepperNoise.xml\n",
      "75_smoothed ./data/images/75_smoothed.png ./data/annotations/75_smoothed.xml\n",
      "76 ./data/images/76.jpg ./data/annotations/76.xml\n",
      "76_gaussianNoise ./data/images/76_gaussianNoise.png ./data/annotations/76_gaussianNoise.xml\n",
      "76_high_cont ./data/images/76_high_cont.png ./data/annotations/76_high_cont.xml\n",
      "76_low_cont ./data/images/76_low_cont.png ./data/annotations/76_low_cont.xml\n",
      "76_normalized ./data/images/76_normalized.png ./data/annotations/76_normalized.xml\n",
      "76_saltPepperNoise ./data/images/76_saltPepperNoise.png ./data/annotations/76_saltPepperNoise.xml\n",
      "76_smoothed ./data/images/76_smoothed.png ./data/annotations/76_smoothed.xml\n",
      "77 ./data/images/77.jpg ./data/annotations/77.xml\n",
      "77_gaussianNoise ./data/images/77_gaussianNoise.png ./data/annotations/77_gaussianNoise.xml\n",
      "77_high_cont ./data/images/77_high_cont.png ./data/annotations/77_high_cont.xml\n",
      "77_low_cont ./data/images/77_low_cont.png ./data/annotations/77_low_cont.xml\n",
      "77_normalized ./data/images/77_normalized.png ./data/annotations/77_normalized.xml\n",
      "77_saltPepperNoise ./data/images/77_saltPepperNoise.png ./data/annotations/77_saltPepperNoise.xml\n",
      "77_smoothed ./data/images/77_smoothed.png ./data/annotations/77_smoothed.xml\n",
      "78 ./data/images/78.jpg ./data/annotations/78.xml\n",
      "78_gaussianNoise ./data/images/78_gaussianNoise.png ./data/annotations/78_gaussianNoise.xml\n",
      "78_high_cont ./data/images/78_high_cont.png ./data/annotations/78_high_cont.xml\n",
      "78_low_cont ./data/images/78_low_cont.png ./data/annotations/78_low_cont.xml\n",
      "78_normalized ./data/images/78_normalized.png ./data/annotations/78_normalized.xml\n",
      "78_saltPepperNoise ./data/images/78_saltPepperNoise.png ./data/annotations/78_saltPepperNoise.xml\n",
      "78_smoothed ./data/images/78_smoothed.png ./data/annotations/78_smoothed.xml\n",
      "79 ./data/images/79.jpg ./data/annotations/79.xml\n",
      "79_gaussianNoise ./data/images/79_gaussianNoise.png ./data/annotations/79_gaussianNoise.xml\n",
      "79_high_cont ./data/images/79_high_cont.png ./data/annotations/79_high_cont.xml\n",
      "79_low_cont ./data/images/79_low_cont.png ./data/annotations/79_low_cont.xml\n",
      "79_normalized ./data/images/79_normalized.png ./data/annotations/79_normalized.xml\n",
      "79_saltPepperNoise ./data/images/79_saltPepperNoise.png ./data/annotations/79_saltPepperNoise.xml\n",
      "79_smoothed ./data/images/79_smoothed.png ./data/annotations/79_smoothed.xml\n",
      "8 ./data/images/8.jpg ./data/annotations/8.xml\n",
      "80 ./data/images/80.jpg ./data/annotations/80.xml\n"
     ]
    },
    {
     "ename": "FileNotFoundError",
     "evalue": "[Errno 2] No such file or directory: './data/annotations/80.xml'",
     "output_type": "error",
     "traceback": [
      "\u001b[1;31m---------------------------------------------------------------------------\u001b[0m",
      "\u001b[1;31mFileNotFoundError\u001b[0m                         Traceback (most recent call last)",
      "\u001b[1;32m<ipython-input-13-c6346dd75026>\u001b[0m in \u001b[0;36m<module>\u001b[1;34m()\u001b[0m\n\u001b[0;32m     14\u001b[0m     \u001b[0msrc\u001b[0m \u001b[1;33m=\u001b[0m \u001b[0mcv2\u001b[0m\u001b[1;33m.\u001b[0m\u001b[0mimread\u001b[0m\u001b[1;33m(\u001b[0m\u001b[0mimage_path\u001b[0m \u001b[1;33m+\u001b[0m \u001b[0mfile\u001b[0m\u001b[1;33m,\u001b[0m \u001b[1;36m1\u001b[0m\u001b[1;33m)\u001b[0m\u001b[1;33m\u001b[0m\u001b[0m\n\u001b[0;32m     15\u001b[0m \u001b[1;33m\u001b[0m\u001b[0m\n\u001b[1;32m---> 16\u001b[1;33m     \u001b[0mshutil\u001b[0m\u001b[1;33m.\u001b[0m\u001b[0mcopy\u001b[0m\u001b[1;33m(\u001b[0m\u001b[0mannotation_path\u001b[0m \u001b[1;33m+\u001b[0m \u001b[0mname\u001b[0m \u001b[1;33m+\u001b[0m \u001b[1;34m\".xml\"\u001b[0m\u001b[1;33m,\u001b[0m \u001b[0mannotation_path\u001b[0m \u001b[1;33m+\u001b[0m \u001b[0mname\u001b[0m \u001b[1;33m+\u001b[0m \u001b[1;34m\"_high_cont.xml\"\u001b[0m\u001b[1;33m)\u001b[0m\u001b[1;33m\u001b[0m\u001b[0m\n\u001b[0m\u001b[0;32m     17\u001b[0m     \u001b[0mshutil\u001b[0m\u001b[1;33m.\u001b[0m\u001b[0mcopy\u001b[0m\u001b[1;33m(\u001b[0m\u001b[0mannotation_path\u001b[0m \u001b[1;33m+\u001b[0m \u001b[0mname\u001b[0m \u001b[1;33m+\u001b[0m \u001b[1;34m\".xml\"\u001b[0m\u001b[1;33m,\u001b[0m \u001b[0mannotation_path\u001b[0m \u001b[1;33m+\u001b[0m \u001b[0mname\u001b[0m \u001b[1;33m+\u001b[0m \u001b[1;34m\"_low_cont.xml\"\u001b[0m\u001b[1;33m)\u001b[0m\u001b[1;33m\u001b[0m\u001b[0m\n\u001b[0;32m     18\u001b[0m     \u001b[0mshutil\u001b[0m\u001b[1;33m.\u001b[0m\u001b[0mcopy\u001b[0m\u001b[1;33m(\u001b[0m\u001b[0mannotation_path\u001b[0m \u001b[1;33m+\u001b[0m \u001b[0mname\u001b[0m \u001b[1;33m+\u001b[0m \u001b[1;34m\".xml\"\u001b[0m\u001b[1;33m,\u001b[0m \u001b[0mannotation_path\u001b[0m \u001b[1;33m+\u001b[0m \u001b[0mname\u001b[0m \u001b[1;33m+\u001b[0m \u001b[1;34m\"_smoothed.xml\"\u001b[0m\u001b[1;33m)\u001b[0m\u001b[1;33m\u001b[0m\u001b[0m\n",
      "\u001b[1;32mC:\\Users\\saton\\Anaconda3\\envs\\opencvtest\\lib\\shutil.py\u001b[0m in \u001b[0;36mcopy\u001b[1;34m(src, dst, follow_symlinks)\u001b[0m\n\u001b[0;32m    233\u001b[0m     \u001b[1;32mif\u001b[0m \u001b[0mos\u001b[0m\u001b[1;33m.\u001b[0m\u001b[0mpath\u001b[0m\u001b[1;33m.\u001b[0m\u001b[0misdir\u001b[0m\u001b[1;33m(\u001b[0m\u001b[0mdst\u001b[0m\u001b[1;33m)\u001b[0m\u001b[1;33m:\u001b[0m\u001b[1;33m\u001b[0m\u001b[0m\n\u001b[0;32m    234\u001b[0m         \u001b[0mdst\u001b[0m \u001b[1;33m=\u001b[0m \u001b[0mos\u001b[0m\u001b[1;33m.\u001b[0m\u001b[0mpath\u001b[0m\u001b[1;33m.\u001b[0m\u001b[0mjoin\u001b[0m\u001b[1;33m(\u001b[0m\u001b[0mdst\u001b[0m\u001b[1;33m,\u001b[0m \u001b[0mos\u001b[0m\u001b[1;33m.\u001b[0m\u001b[0mpath\u001b[0m\u001b[1;33m.\u001b[0m\u001b[0mbasename\u001b[0m\u001b[1;33m(\u001b[0m\u001b[0msrc\u001b[0m\u001b[1;33m)\u001b[0m\u001b[1;33m)\u001b[0m\u001b[1;33m\u001b[0m\u001b[0m\n\u001b[1;32m--> 235\u001b[1;33m     \u001b[0mcopyfile\u001b[0m\u001b[1;33m(\u001b[0m\u001b[0msrc\u001b[0m\u001b[1;33m,\u001b[0m \u001b[0mdst\u001b[0m\u001b[1;33m,\u001b[0m \u001b[0mfollow_symlinks\u001b[0m\u001b[1;33m=\u001b[0m\u001b[0mfollow_symlinks\u001b[0m\u001b[1;33m)\u001b[0m\u001b[1;33m\u001b[0m\u001b[0m\n\u001b[0m\u001b[0;32m    236\u001b[0m     \u001b[0mcopymode\u001b[0m\u001b[1;33m(\u001b[0m\u001b[0msrc\u001b[0m\u001b[1;33m,\u001b[0m \u001b[0mdst\u001b[0m\u001b[1;33m,\u001b[0m \u001b[0mfollow_symlinks\u001b[0m\u001b[1;33m=\u001b[0m\u001b[0mfollow_symlinks\u001b[0m\u001b[1;33m)\u001b[0m\u001b[1;33m\u001b[0m\u001b[0m\n\u001b[0;32m    237\u001b[0m     \u001b[1;32mreturn\u001b[0m \u001b[0mdst\u001b[0m\u001b[1;33m\u001b[0m\u001b[0m\n",
      "\u001b[1;32mC:\\Users\\saton\\Anaconda3\\envs\\opencvtest\\lib\\shutil.py\u001b[0m in \u001b[0;36mcopyfile\u001b[1;34m(src, dst, follow_symlinks)\u001b[0m\n\u001b[0;32m    112\u001b[0m         \u001b[0mos\u001b[0m\u001b[1;33m.\u001b[0m\u001b[0msymlink\u001b[0m\u001b[1;33m(\u001b[0m\u001b[0mos\u001b[0m\u001b[1;33m.\u001b[0m\u001b[0mreadlink\u001b[0m\u001b[1;33m(\u001b[0m\u001b[0msrc\u001b[0m\u001b[1;33m)\u001b[0m\u001b[1;33m,\u001b[0m \u001b[0mdst\u001b[0m\u001b[1;33m)\u001b[0m\u001b[1;33m\u001b[0m\u001b[0m\n\u001b[0;32m    113\u001b[0m     \u001b[1;32melse\u001b[0m\u001b[1;33m:\u001b[0m\u001b[1;33m\u001b[0m\u001b[0m\n\u001b[1;32m--> 114\u001b[1;33m         \u001b[1;32mwith\u001b[0m \u001b[0mopen\u001b[0m\u001b[1;33m(\u001b[0m\u001b[0msrc\u001b[0m\u001b[1;33m,\u001b[0m \u001b[1;34m'rb'\u001b[0m\u001b[1;33m)\u001b[0m \u001b[1;32mas\u001b[0m \u001b[0mfsrc\u001b[0m\u001b[1;33m:\u001b[0m\u001b[1;33m\u001b[0m\u001b[0m\n\u001b[0m\u001b[0;32m    115\u001b[0m             \u001b[1;32mwith\u001b[0m \u001b[0mopen\u001b[0m\u001b[1;33m(\u001b[0m\u001b[0mdst\u001b[0m\u001b[1;33m,\u001b[0m \u001b[1;34m'wb'\u001b[0m\u001b[1;33m)\u001b[0m \u001b[1;32mas\u001b[0m \u001b[0mfdst\u001b[0m\u001b[1;33m:\u001b[0m\u001b[1;33m\u001b[0m\u001b[0m\n\u001b[0;32m    116\u001b[0m                 \u001b[0mcopyfileobj\u001b[0m\u001b[1;33m(\u001b[0m\u001b[0mfsrc\u001b[0m\u001b[1;33m,\u001b[0m \u001b[0mfdst\u001b[0m\u001b[1;33m)\u001b[0m\u001b[1;33m\u001b[0m\u001b[0m\n",
      "\u001b[1;31mFileNotFoundError\u001b[0m: [Errno 2] No such file or directory: './data/annotations/80.xml'"
     ]
    }
   ],
   "source": [
    "image_path = \"./data/images/\"\n",
    "annotation_path = \"./data/annotations/\"\n",
    "files = os.listdir(image_path)\n",
    "\n",
    "#skip = True\n",
    "for file in files:\n",
    "    name, ext = file.split('.')\n",
    "    print(name, image_path + file, annotation_path + name + \".xml\")\n",
    "    #if name == '73':\n",
    "    #    skip = False\n",
    "    #if skip:\n",
    "    #    continue\n",
    "    \n",
    "    src = cv2.imread(image_path + file, 1)\n",
    "    \n",
    "    shutil.copy(annotation_path + name + \".xml\", annotation_path + name + \"_high_cont.xml\")\n",
    "    shutil.copy(annotation_path + name + \".xml\", annotation_path + name + \"_low_cont.xml\")\n",
    "    shutil.copy(annotation_path + name + \".xml\", annotation_path + name + \"_smoothed.xml\")\n",
    "    shutil.copy(annotation_path + name + \".xml\", annotation_path + name + \"_gaussianNoise.xml\")\n",
    "    shutil.copy(annotation_path + name + \".xml\", annotation_path + name + \"_saltPepperNoise.xml\")\n",
    "    shutil.copy(annotation_path + name + \".xml\", annotation_path + name + \"_normalized.xml\")\n",
    "    \n",
    "    adjustmentContrast(file, src, image_path, name)\n",
    "    smoothing(file, src, image_path, name)\n",
    "    addGaussianNoise(file, src, image_path, name)\n",
    "    addSaltPepperNoise(file, src, image_path, name)\n",
    "    normalize(file, src, image_path, name)"
   ]
  },
  {
   "cell_type": "code",
   "execution_count": null,
   "metadata": {
    "collapsed": true
   },
   "outputs": [],
   "source": []
  },
  {
   "cell_type": "code",
   "execution_count": null,
   "metadata": {
    "collapsed": true
   },
   "outputs": [],
   "source": []
  },
  {
   "cell_type": "code",
   "execution_count": null,
   "metadata": {
    "collapsed": true
   },
   "outputs": [],
   "source": []
  }
 ],
 "metadata": {
  "kernelspec": {
   "display_name": "Python 3",
   "language": "python",
   "name": "python3"
  },
  "language_info": {
   "codemirror_mode": {
    "name": "ipython",
    "version": 3
   },
   "file_extension": ".py",
   "mimetype": "text/x-python",
   "name": "python",
   "nbconvert_exporter": "python",
   "pygments_lexer": "ipython3",
   "version": "3.5.2"
  }
 },
 "nbformat": 4,
 "nbformat_minor": 2
}
