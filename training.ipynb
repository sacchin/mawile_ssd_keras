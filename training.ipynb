{
 "cells": [
  {
   "cell_type": "code",
   "execution_count": 1,
   "metadata": {},
   "outputs": [
    {
     "name": "stderr",
     "output_type": "stream",
     "text": [
      "Using TensorFlow backend.\n"
     ]
    }
   ],
   "source": [
    "from kucheat_training import do_kucheat_training"
   ]
  },
  {
   "cell_type": "code",
   "execution_count": 2,
   "metadata": {},
   "outputs": [
    {
     "name": "stderr",
     "output_type": "stream",
     "text": [
      "C:\\Users\\saton\\Documents\\git\\mawile_ssd_keras\\kucheat_training.py:274: UserWarning: The semantics of the Keras 2 argument `steps_per_epoch` is not the same as the Keras 1 argument `samples_per_epoch`. `steps_per_epoch` is the number of batches to draw from the generator at each epoch. Basically steps_per_epoch = samples_per_epoch/batch_size. Similarly `nb_val_samples`->`validation_steps` and `val_samples`->`steps` arguments have changed. Update your method calls accordingly.\n",
      "  nb_worker=1)\n",
      "C:\\Users\\saton\\Documents\\git\\mawile_ssd_keras\\kucheat_training.py:274: UserWarning: Update your `fit_generator` call to the Keras 2 API: `fit_generator(<generator..., 3, 1, validation_steps=1, workers=1, callbacks=[<keras.ca..., verbose=1, validation_data=<generator...)`\n",
      "  nb_worker=1)\n",
      "C:\\Users\\saton\\Anaconda3\\envs\\opencvtest\\lib\\site-packages\\tensorflow\\python\\ops\\gradients_impl.py:100: UserWarning: Converting sparse IndexedSlices to a dense Tensor of unknown shape. This may consume a large amount of memory.\n",
      "  \"Converting sparse IndexedSlices to a dense Tensor of unknown shape. \"\n"
     ]
    },
    {
     "name": "stdout",
     "output_type": "stream",
     "text": [
      "Epoch 1/1\n",
      "2/3 [===================>..........] - ETA: 6s - loss: 7.2138 "
     ]
    },
    {
     "name": "stderr",
     "output_type": "stream",
     "text": [
      "C:\\Users\\saton\\Documents\\git\\mawile_ssd_keras\\ssd_utils.py:114: RuntimeWarning: invalid value encountered in log\n",
      "  assigned_priors_wh)\n"
     ]
    },
    {
     "name": "stdout",
     "output_type": "stream",
     "text": [
      "3/3 [==============================] - 19s 6s/step - loss: 9.7931 - val_loss: 0.4690\n",
      "\n",
      "Epoch 00001: saving model to ./checkpoints/weights.01-0.47.hdf5\n"
     ]
    }
   ],
   "source": [
    "do_kucheat_training()"
   ]
  },
  {
   "cell_type": "code",
   "execution_count": 16,
   "metadata": {
    "collapsed": true
   },
   "outputs": [],
   "source": [
    "from keras import backend as keras_backend\n",
    "session = keras_backend.get_session()"
   ]
  },
  {
   "cell_type": "code",
   "execution_count": 20,
   "metadata": {
    "collapsed": true
   },
   "outputs": [],
   "source": [
    "from keras.models import load_model\n",
    "import tensorflow as tf\n",
    "import os\n",
    "import os.path as osp\n",
    "from keras import backend as K\n",
    "\n",
    "from tensorflow.python.framework import graph_util\n",
    "from tensorflow.python.framework import graph_io"
   ]
  },
  {
   "cell_type": "code",
   "execution_count": 21,
   "metadata": {},
   "outputs": [
    {
     "name": "stdout",
     "output_type": "stream",
     "text": [
      "Output nodes names:  ['output_node0']\n",
      "Saved the graph definition:  C:/Users/saton/Documents/git/data/output/ssd_kucheat.pb.ascii\n",
      "INFO:tensorflow:Froze 73 variables.\n",
      "Converted 73 variables to const ops.\n",
      "Saved the TensorFlow graph:  C:/Users/saton/Documents/git/data/output/ssd_kucheat.pb\n"
     ]
    }
   ],
   "source": [
    "num_output = 1\n",
    "write_graph_def_ascii_flag = True\n",
    "prefix_output_node_names_of_final_network = 'output_node'\n",
    "keras_model_name = 'ssd_kucheat'\n",
    "tensorflow_graph_name = keras_model_name + '.pb'\n",
    "\n",
    "# 出力ディレクトリの準備\n",
    "output_dir = 'C:/Users/saton/Documents/git/data/output/'\n",
    "if not os.path.isdir(output_dir):\n",
    "    os.mkdir(output_dir)\n",
    "\n",
    "# Load keras model and rename output\n",
    "K.set_learning_phase(0)\n",
    "keras_model = model\n",
    "\n",
    "pred = [None]*num_output\n",
    "pred_node_names = [None]*num_output\n",
    "for i in range(num_output):\n",
    "    pred_node_names[i] = prefix_output_node_names_of_final_network+str(i)\n",
    "    pred[i] = tf.identity(keras_model.output[i], name=pred_node_names[i])\n",
    "print('Output nodes names: ', pred_node_names)\n",
    "\n",
    "\n",
    "# [optional] write graph definition in ascii\n",
    "sess = K.get_session()\n",
    "if write_graph_def_ascii_flag:\n",
    "    f = tensorflow_graph_name + '.ascii'\n",
    "    tf.train.write_graph(sess.graph.as_graph_def(), output_dir, f, as_text=True)\n",
    "    print('Saved the graph definition: ', osp.join(output_dir, f))\n",
    "\n",
    "\n",
    "# convert variables to constants and save\n",
    "constant_graph = graph_util.convert_variables_to_constants(sess, sess.graph.as_graph_def(), pred_node_names)\n",
    "graph_io.write_graph(constant_graph, output_dir, tensorflow_graph_name, as_text=False)\n",
    "\n",
    "print('Saved the TensorFlow graph: ', osp.join(output_dir, tensorflow_graph_name))"
   ]
  },
  {
   "cell_type": "code",
   "execution_count": null,
   "metadata": {
    "collapsed": true
   },
   "outputs": [],
   "source": []
  },
  {
   "cell_type": "code",
   "execution_count": null,
   "metadata": {
    "collapsed": true
   },
   "outputs": [],
   "source": []
  }
 ],
 "metadata": {
  "anaconda-cloud": {},
  "kernelspec": {
   "display_name": "Python 3",
   "language": "python",
   "name": "python3"
  },
  "language_info": {
   "codemirror_mode": {
    "name": "ipython",
    "version": 3
   },
   "file_extension": ".py",
   "mimetype": "text/x-python",
   "name": "python",
   "nbconvert_exporter": "python",
   "pygments_lexer": "ipython3",
   "version": "3.5.2"
  }
 },
 "nbformat": 4,
 "nbformat_minor": 1
}
